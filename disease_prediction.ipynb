{
  "nbformat": 4,
  "nbformat_minor": 0,
  "metadata": {
    "colab": {
      "provenance": []
    },
    "kernelspec": {
      "name": "python3",
      "display_name": "Python 3"
    },
    "language_info": {
      "name": "python"
    }
  },
  "cells": [
    {
      "cell_type": "code",
      "source": [
        "import pandas as pd\n",
        "from sklearn.feature_extraction.text import TfidfVectorizer\n",
        "from sklearn.model_selection import train_test_split\n",
        "from sklearn.linear_model import LogisticRegression\n",
        "from sklearn.metrics import classification_report, accuracy_score"
      ],
      "metadata": {
        "id": "1cpKctZFD7fH"
      },
      "execution_count": null,
      "outputs": []
    },
    {
      "cell_type": "code",
      "source": [
        "data = pd.read_csv('/content/Symptom2Disease.csv')\n",
        "\n",
        "# Check the first few rows of the dataset\n",
        "print(data.head())\n",
        "\n",
        "# Features and target\n",
        "X = data['text']\n",
        "y = data['label']\n",
        "\n",
        "# Split the data into training and testing sets\n",
        "X_train, X_test, y_train, y_test = train_test_split(X, y, test_size=0.3, random_state=42)"
      ],
      "metadata": {
        "colab": {
          "base_uri": "https://localhost:8080/"
        },
        "id": "yfOhc9OqE2Wj",
        "outputId": "faf6e6e5-a84c-469b-9d00-5de9a3c52478"
      },
      "execution_count": null,
      "outputs": [
        {
          "output_type": "stream",
          "name": "stdout",
          "text": [
            "   Unnamed: 0      label                                               text\n",
            "0           0  Psoriasis  I have been experiencing a skin rash on my arm...\n",
            "1           1  Psoriasis  My skin has been peeling, especially on my kne...\n",
            "2           2  Psoriasis  I have been experiencing joint pain in my fing...\n",
            "3           3  Psoriasis  There is a silver like dusting on my skin, esp...\n",
            "4           4  Psoriasis  My nails have small dents or pits in them, and...\n"
          ]
        }
      ]
    },
    {
      "cell_type": "code",
      "execution_count": null,
      "metadata": {
        "colab": {
          "base_uri": "https://localhost:8080/"
        },
        "id": "iwWC-n1xDuHJ",
        "outputId": "ecf27c1e-ce2c-4181-fe61-238fa01d6a4e"
      },
      "outputs": [
        {
          "output_type": "stream",
          "name": "stdout",
          "text": [
            "Accuracy: 0.9611111111111111\n",
            "Classification Report:\n",
            "                                 precision    recall  f1-score   support\n",
            "\n",
            "                           Acne       1.00      1.00      1.00        13\n",
            "                      Arthritis       1.00      1.00      1.00        14\n",
            "               Bronchial Asthma       0.94      1.00      0.97        15\n",
            "           Cervical spondylosis       1.00      1.00      1.00        14\n",
            "                    Chicken pox       0.67      1.00      0.80        12\n",
            "                    Common Cold       1.00      0.94      0.97        17\n",
            "                         Dengue       1.00      0.72      0.84        18\n",
            "          Dimorphic Hemorrhoids       1.00      1.00      1.00        13\n",
            "               Fungal infection       1.00      1.00      1.00        17\n",
            "                   Hypertension       1.00      1.00      1.00        15\n",
            "                       Impetigo       1.00      1.00      1.00        17\n",
            "                       Jaundice       1.00      1.00      1.00        18\n",
            "                        Malaria       1.00      1.00      1.00        15\n",
            "                       Migraine       1.00      1.00      1.00        15\n",
            "                      Pneumonia       1.00      1.00      1.00        17\n",
            "                      Psoriasis       1.00      0.80      0.89        15\n",
            "                        Typhoid       1.00      0.93      0.97        15\n",
            "                 Varicose Veins       1.00      0.94      0.97        17\n",
            "                        allergy       0.87      0.93      0.90        14\n",
            "                       diabetes       1.00      0.93      0.97        15\n",
            "                  drug reaction       0.90      1.00      0.95         9\n",
            "gastroesophageal reflux disease       0.94      1.00      0.97        17\n",
            "           peptic ulcer disease       0.87      0.93      0.90        14\n",
            "        urinary tract infection       0.93      1.00      0.97        14\n",
            "\n",
            "                       accuracy                           0.96       360\n",
            "                      macro avg       0.96      0.96      0.96       360\n",
            "                   weighted avg       0.97      0.96      0.96       360\n",
            "\n"
          ]
        }
      ],
      "source": [
        "\n",
        "# Text vectorization using TF-IDF\n",
        "vectorizer = TfidfVectorizer(stop_words='english')\n",
        "X_train_vec = vectorizer.fit_transform(X_train)\n",
        "X_test_vec = vectorizer.transform(X_test)\n",
        "\n",
        "# Model training\n",
        "model = LogisticRegression(max_iter=1000)\n",
        "model.fit(X_train_vec, y_train)\n",
        "\n",
        "# Predictions\n",
        "y_pred = model.predict(X_test_vec)\n",
        "\n",
        "# Evaluation\n",
        "print(f\"Accuracy: {accuracy_score(y_test, y_pred)}\")\n",
        "print(\"Classification Report:\")\n",
        "print(classification_report(y_test, y_pred))\n"
      ]
    },
    {
      "cell_type": "code",
      "source": [
        "# Model evaluation\n",
        "def evaluate_model():\n",
        "    # Take custom input from the user\n",
        "    input_text = input(\"Enter the symptom description: \")\n",
        "\n",
        "    # Transform the input text using the same TF-IDF vectorizer\n",
        "    input_vec = vectorizer.transform([input_text])\n",
        "\n",
        "    # Make a prediction\n",
        "    predicted_label = model.predict(input_vec)\n",
        "\n",
        "    # Output the result\n",
        "    print(f\"Predicted Disease: {predicted_label[0]}\")\n",
        "\n",
        "# Example evaluation with custom input\n",
        "evaluate_model()"
      ],
      "metadata": {
        "colab": {
          "base_uri": "https://localhost:8080/"
        },
        "id": "Py_CUCg6Flwa",
        "outputId": "9bdec572-7346-4f2c-ee6b-0d75bef66db5"
      },
      "execution_count": null,
      "outputs": [
        {
          "output_type": "stream",
          "name": "stdout",
          "text": [
            "Enter the symptom description: My skin has been peeling, especially on my knee\n",
            "Predicted Disease: Psoriasis\n"
          ]
        }
      ]
    },
    {
      "cell_type": "code",
      "source": [
        "import joblib\n",
        "\n",
        "# Save the trained model and vectorizer\n",
        "joblib.dump(model, 'disease_prediction_model.pkl')\n",
        "joblib.dump(vectorizer, 'vectorizer.pkl')\n"
      ],
      "metadata": {
        "colab": {
          "base_uri": "https://localhost:8080/"
        },
        "id": "z_ohLZyharYq",
        "outputId": "b359c707-168e-48db-f8b6-f511afc0bd4d"
      },
      "execution_count": null,
      "outputs": [
        {
          "output_type": "execute_result",
          "data": {
            "text/plain": [
              "['vectorizer.pkl']"
            ]
          },
          "metadata": {},
          "execution_count": 5
        }
      ]
    }
  ]
}